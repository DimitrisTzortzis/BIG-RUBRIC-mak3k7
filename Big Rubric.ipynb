{
 "cells": [
  {
   "cell_type": "code",
   "execution_count": null,
   "id": "c9bedf4c",
   "metadata": {},
   "outputs": [],
   "source": [
    "###new strategy formation"
   ]
  },
  {
   "cell_type": "code",
   "execution_count": 4,
   "id": "d933894b",
   "metadata": {},
   "outputs": [
    {
     "name": "stdout",
     "output_type": "stream",
     "text": [
      "Ali won after 1 attempt(s). Here is the winning sequence:\n",
      "Round 1 - Ali pours into glasses G3, G6, G7: [G3: 0.17 pints, G6: 0.17 pints, G7: 0.17 pints]\n",
      "Round 1 - Beth empties glass G3.\n",
      "Round 2 - Ali pours into glasses G6, G7: [G6: 0.42 pints, G7: 0.42 pints]\n"
     ]
    }
   ],
   "source": [
    "import random\n",
    "# Function to play the game with the updated winning condition\n",
    "def play_game():\n",
    "    glasses = [0] * 8  # Start with all glasses empty\n",
    "    sequence = []\n",
    "\n",
    "    for round_number in range(8):  # Play up to 8 rounds\n",
    "        # Ali's turn: choose how many glasses to pour into\n",
    "        glasses_in_play = [i for i, v in enumerate(glasses) if v > 0] or list(range(8))\n",
    "        k = random.randint(1, len(glasses_in_play))\n",
    "        chosen_glasses = random.sample(glasses_in_play, k)\n",
    "        amount_to_pour = 0.5 / k\n",
    "\n",
    "        # Pour water into glasses\n",
    "        for g in chosen_glasses:\n",
    "            glasses[g] += amount_to_pour\n",
    "\n",
    "        # Record Ali's move\n",
    "        sequence.append(('Ali', chosen_glasses, [glasses[g] for g in chosen_glasses]))\n",
    "\n",
    "        # Check if Ali has won after pouring\n",
    "        if sum(1 for amount in glasses if amount > 0.25) >= 2:\n",
    "            return sequence, True\n",
    "\n",
    "        # Beth's turn: choose a glass to empty\n",
    "        glass_to_empty = random.choice(chosen_glasses) if chosen_glasses else None\n",
    "        if glass_to_empty is not None:\n",
    "            glasses[glass_to_empty] = 0\n",
    "            sequence.append(('Beth', [glass_to_empty], []))\n",
    "\n",
    "        # Check if game over because Beth emptied the last glass\n",
    "        if not any(glasses):  # All glasses are empty\n",
    "            return sequence, False\n",
    "\n",
    "    # Ali didn't win in 8 rounds, game over\n",
    "    return sequence, False\n",
    "\n",
    "# Function to display the sequence in a readable format\n",
    "def display_sequence(sequence):\n",
    "    for i, (player, action, glasses) in enumerate(sequence):\n",
    "        if player == 'Ali':\n",
    "            glasses_status = ', '.join([f\"G{g+1}: {amt:.2f} pints\" for g, amt in zip(action, glasses)])\n",
    "            print(f\"Round {i//2 + 1} - Ali pours into glasses {', '.join(['G' + str(g+1) for g in action])}: [{glasses_status}]\")\n",
    "        else:\n",
    "            print(f\"Round {i//2 + 1} - Beth empties glass G{action[0]+1}.\")\n",
    "\n",
    "# Main simulation loop\n",
    "winning_sequence = None\n",
    "attempt = 0\n",
    "\n",
    "# Keep playing until Ali wins\n",
    "while not winning_sequence:\n",
    "    attempt += 1\n",
    "    sequence, ali_won = play_game()\n",
    "    if ali_won:\n",
    "        winning_sequence = sequence\n",
    "        break\n",
    "\n",
    "# Output the winning sequence\n",
    "if winning_sequence:\n",
    "    print(f\"Ali won after {attempt} attempt(s). Here is the winning sequence:\")\n",
    "    display_sequence(winning_sequence)\n",
    "else:\n",
    "    print(\"Ali could not win in the given attempts.\")\n"
   ]
  },
  {
   "cell_type": "code",
   "execution_count": null,
   "id": "30b318a6",
   "metadata": {},
   "outputs": [],
   "source": []
  },
  {
   "cell_type": "code",
   "execution_count": null,
   "id": "b857a22e",
   "metadata": {},
   "outputs": [],
   "source": []
  },
  {
   "cell_type": "code",
   "execution_count": null,
   "id": "273e3f4d",
   "metadata": {},
   "outputs": [],
   "source": []
  },
  {
   "cell_type": "code",
   "execution_count": null,
   "id": "e59a38ec",
   "metadata": {},
   "outputs": [],
   "source": [
    "###n>6"
   ]
  },
  {
   "cell_type": "code",
   "execution_count": 2,
   "id": "fedc47e8",
   "metadata": {},
   "outputs": [
    {
     "name": "stdout",
     "output_type": "stream",
     "text": [
      "Ali wins 100 out of 100 simulations.\n"
     ]
    }
   ],
   "source": [
    "import random\n",
    "\n",
    "def simulate_game(n):\n",
    "    # Initialize all glasses as empty\n",
    "    glasses = [0] * n\n",
    "    \n",
    "    # Ali's first move: fill three random glasses with 1/6 pint\n",
    "    glasses_to_fill = random.sample(range(n), 3)\n",
    "    for g in glasses_to_fill:\n",
    "        glasses[g] = 1/6\n",
    "\n",
    "    # Beth's move: empty one of the glasses\n",
    "    glass_to_empty = random.choice(glasses_to_fill)\n",
    "    glasses[glass_to_empty] = 0\n",
    "\n",
    "    # Ali's second move: add 1/4 pint to the remaining two filled glasses\n",
    "    for g in glasses_to_fill:\n",
    "        if glasses[g] != 0:  # Check if the glass wasn't emptied by Beth\n",
    "            glasses[g] += 1/4\n",
    "\n",
    "    # Check if Ali wins (at least two glasses have more than 1/6 pint)\n",
    "    return sum(g > 1/6 for g in glasses) >= 2\n",
    "\n",
    "# Run 100 simulations with random 'n' between 6 and 40\n",
    "def simulate_n_games(num_simulations=100):\n",
    "    wins = 0\n",
    "    for _ in range(num_simulations):\n",
    "        n = random.randint(6, 40)\n",
    "        if simulate_game(n):\n",
    "            wins += 1\n",
    "    return wins\n",
    "\n",
    "# Run the simulations and print the number of wins for Ali\n",
    "num_wins = simulate_n_games()\n",
    "print(f\"Ali wins {num_wins} out of 100 simulations.\")\n",
    "\n",
    "\n"
   ]
  },
  {
   "cell_type": "code",
   "execution_count": null,
   "id": "3ebe0360",
   "metadata": {},
   "outputs": [],
   "source": []
  }
 ],
 "metadata": {
  "kernelspec": {
   "display_name": "Python 3 (ipykernel)",
   "language": "python",
   "name": "python3"
  },
  "language_info": {
   "codemirror_mode": {
    "name": "ipython",
    "version": 3
   },
   "file_extension": ".py",
   "mimetype": "text/x-python",
   "name": "python",
   "nbconvert_exporter": "python",
   "pygments_lexer": "ipython3",
   "version": "3.9.7"
  }
 },
 "nbformat": 4,
 "nbformat_minor": 5
}
